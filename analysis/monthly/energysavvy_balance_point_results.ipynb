{
 "cells": [
  {
   "cell_type": "code",
   "execution_count": 7,
   "metadata": {
    "collapsed": true
   },
   "outputs": [],
   "source": [
    "import numpy as np\n",
    "import pandas as pd\n",
    "import statsmodels.api as sm\n",
    "from scipy import stats\n",
    "import matplotlib.pyplot as plt\n",
    "import seaborn as sns\n",
    "\n",
    "%matplotlib inline\n",
    "pd.set_option('display.max_columns', None)\n",
    "pd.options.mode.chained_assignment = None  # default='warn'\n",
    "\n",
    "COOLING_DUMMY_BALANCE_POINT = 150.\n",
    "HEATING_DUMMY_BALANCE_POINT = 0."
   ]
  },
  {
   "cell_type": "markdown",
   "metadata": {},
   "source": [
    "### Data description:\n",
    "This notebook uses the normalized annual results for three different sets of balance points:\n",
    "- coarse: our original three balance points (65, 70, 75 for cooling; 55, 60, 65 for heating)\n",
    "- fine: same ranges as the coarse balance points but with stepsize of 1 degree\n",
    "- fine wide: one degree stepsize between 60-80 for cooling and 50-70 for heating"
   ]
  },
  {
   "cell_type": "code",
   "execution_count": 2,
   "metadata": {
    "collapsed": true
   },
   "outputs": [],
   "source": [
    "%store -r coarse_results\n",
    "%store -r fine_results\n",
    "%store -r fine_results_wide"
   ]
  },
  {
   "cell_type": "code",
   "execution_count": 3,
   "metadata": {
    "collapsed": false
   },
   "outputs": [
    {
     "data": {
      "text/html": [
       "<div>\n",
       "<table border=\"1\" class=\"dataframe\">\n",
       "  <thead>\n",
       "    <tr style=\"text-align: right;\">\n",
       "      <th></th>\n",
       "      <th>Savings</th>\n",
       "      <th>pre hbp</th>\n",
       "      <th>pre cbp</th>\n",
       "      <th>post hbp</th>\n",
       "      <th>post cbp</th>\n",
       "    </tr>\n",
       "  </thead>\n",
       "  <tbody>\n",
       "    <tr>\n",
       "      <th>count</th>\n",
       "      <td>2601.000000</td>\n",
       "      <td>2601.000000</td>\n",
       "      <td>2601.000000</td>\n",
       "      <td>2601.000000</td>\n",
       "      <td>2601.000000</td>\n",
       "    </tr>\n",
       "    <tr>\n",
       "      <th>mean</th>\n",
       "      <td>134.207035</td>\n",
       "      <td>38.454441</td>\n",
       "      <td>105.257593</td>\n",
       "      <td>33.010381</td>\n",
       "      <td>105.561323</td>\n",
       "    </tr>\n",
       "    <tr>\n",
       "      <th>std</th>\n",
       "      <td>2023.648233</td>\n",
       "      <td>29.263963</td>\n",
       "      <td>40.315713</td>\n",
       "      <td>31.218084</td>\n",
       "      <td>40.460239</td>\n",
       "    </tr>\n",
       "    <tr>\n",
       "      <th>min</th>\n",
       "      <td>-14215.824389</td>\n",
       "      <td>0.000000</td>\n",
       "      <td>65.000000</td>\n",
       "      <td>0.000000</td>\n",
       "      <td>65.000000</td>\n",
       "    </tr>\n",
       "    <tr>\n",
       "      <th>25%</th>\n",
       "      <td>-623.000345</td>\n",
       "      <td>0.000000</td>\n",
       "      <td>70.000000</td>\n",
       "      <td>0.000000</td>\n",
       "      <td>65.000000</td>\n",
       "    </tr>\n",
       "    <tr>\n",
       "      <th>50%</th>\n",
       "      <td>94.365128</td>\n",
       "      <td>55.000000</td>\n",
       "      <td>75.000000</td>\n",
       "      <td>55.000000</td>\n",
       "      <td>75.000000</td>\n",
       "    </tr>\n",
       "    <tr>\n",
       "      <th>75%</th>\n",
       "      <td>853.315763</td>\n",
       "      <td>65.000000</td>\n",
       "      <td>150.000000</td>\n",
       "      <td>65.000000</td>\n",
       "      <td>150.000000</td>\n",
       "    </tr>\n",
       "    <tr>\n",
       "      <th>max</th>\n",
       "      <td>26922.049648</td>\n",
       "      <td>65.000000</td>\n",
       "      <td>150.000000</td>\n",
       "      <td>65.000000</td>\n",
       "      <td>150.000000</td>\n",
       "    </tr>\n",
       "  </tbody>\n",
       "</table>\n",
       "</div>"
      ],
      "text/plain": [
       "            Savings      pre hbp      pre cbp     post hbp     post cbp\n",
       "count   2601.000000  2601.000000  2601.000000  2601.000000  2601.000000\n",
       "mean     134.207035    38.454441   105.257593    33.010381   105.561323\n",
       "std     2023.648233    29.263963    40.315713    31.218084    40.460239\n",
       "min   -14215.824389     0.000000    65.000000     0.000000    65.000000\n",
       "25%     -623.000345     0.000000    70.000000     0.000000    65.000000\n",
       "50%       94.365128    55.000000    75.000000    55.000000    75.000000\n",
       "75%      853.315763    65.000000   150.000000    65.000000   150.000000\n",
       "max    26922.049648    65.000000   150.000000    65.000000   150.000000"
      ]
     },
     "execution_count": 3,
     "metadata": {},
     "output_type": "execute_result"
    }
   ],
   "source": [
    "coarse_results.describe()"
   ]
  },
  {
   "cell_type": "code",
   "execution_count": 4,
   "metadata": {
    "collapsed": false
   },
   "outputs": [
    {
     "data": {
      "text/html": [
       "<div>\n",
       "<table border=\"1\" class=\"dataframe\">\n",
       "  <thead>\n",
       "    <tr style=\"text-align: right;\">\n",
       "      <th></th>\n",
       "      <th>Savings</th>\n",
       "      <th>pre hbp</th>\n",
       "      <th>pre cbp</th>\n",
       "      <th>post hbp</th>\n",
       "      <th>post cbp</th>\n",
       "    </tr>\n",
       "  </thead>\n",
       "  <tbody>\n",
       "    <tr>\n",
       "      <th>count</th>\n",
       "      <td>2601.000000</td>\n",
       "      <td>2601.000000</td>\n",
       "      <td>2601.000000</td>\n",
       "      <td>2601.000000</td>\n",
       "      <td>2601.000000</td>\n",
       "    </tr>\n",
       "    <tr>\n",
       "      <th>mean</th>\n",
       "      <td>135.885332</td>\n",
       "      <td>39.192618</td>\n",
       "      <td>104.118032</td>\n",
       "      <td>33.567090</td>\n",
       "      <td>105.373702</td>\n",
       "    </tr>\n",
       "    <tr>\n",
       "      <th>std</th>\n",
       "      <td>2016.168507</td>\n",
       "      <td>28.952976</td>\n",
       "      <td>40.056483</td>\n",
       "      <td>31.057964</td>\n",
       "      <td>40.273052</td>\n",
       "    </tr>\n",
       "    <tr>\n",
       "      <th>min</th>\n",
       "      <td>-14215.824389</td>\n",
       "      <td>0.000000</td>\n",
       "      <td>65.000000</td>\n",
       "      <td>0.000000</td>\n",
       "      <td>65.000000</td>\n",
       "    </tr>\n",
       "    <tr>\n",
       "      <th>25%</th>\n",
       "      <td>-618.863627</td>\n",
       "      <td>0.000000</td>\n",
       "      <td>68.000000</td>\n",
       "      <td>0.000000</td>\n",
       "      <td>68.000000</td>\n",
       "    </tr>\n",
       "    <tr>\n",
       "      <th>50%</th>\n",
       "      <td>97.989376</td>\n",
       "      <td>55.000000</td>\n",
       "      <td>75.000000</td>\n",
       "      <td>55.000000</td>\n",
       "      <td>75.000000</td>\n",
       "    </tr>\n",
       "    <tr>\n",
       "      <th>75%</th>\n",
       "      <td>857.735209</td>\n",
       "      <td>63.000000</td>\n",
       "      <td>150.000000</td>\n",
       "      <td>64.000000</td>\n",
       "      <td>150.000000</td>\n",
       "    </tr>\n",
       "    <tr>\n",
       "      <th>max</th>\n",
       "      <td>26588.563506</td>\n",
       "      <td>65.000000</td>\n",
       "      <td>150.000000</td>\n",
       "      <td>65.000000</td>\n",
       "      <td>150.000000</td>\n",
       "    </tr>\n",
       "  </tbody>\n",
       "</table>\n",
       "</div>"
      ],
      "text/plain": [
       "            Savings      pre hbp      pre cbp     post hbp     post cbp\n",
       "count   2601.000000  2601.000000  2601.000000  2601.000000  2601.000000\n",
       "mean     135.885332    39.192618   104.118032    33.567090   105.373702\n",
       "std     2016.168507    28.952976    40.056483    31.057964    40.273052\n",
       "min   -14215.824389     0.000000    65.000000     0.000000    65.000000\n",
       "25%     -618.863627     0.000000    68.000000     0.000000    68.000000\n",
       "50%       97.989376    55.000000    75.000000    55.000000    75.000000\n",
       "75%      857.735209    63.000000   150.000000    64.000000   150.000000\n",
       "max    26588.563506    65.000000   150.000000    65.000000   150.000000"
      ]
     },
     "execution_count": 4,
     "metadata": {},
     "output_type": "execute_result"
    }
   ],
   "source": [
    "fine_results.describe()"
   ]
  },
  {
   "cell_type": "code",
   "execution_count": 5,
   "metadata": {
    "collapsed": false
   },
   "outputs": [
    {
     "data": {
      "text/html": [
       "<div>\n",
       "<table border=\"1\" class=\"dataframe\">\n",
       "  <thead>\n",
       "    <tr style=\"text-align: right;\">\n",
       "      <th></th>\n",
       "      <th>Savings</th>\n",
       "      <th>pre hbp</th>\n",
       "      <th>pre cbp</th>\n",
       "      <th>post hbp</th>\n",
       "      <th>post cbp</th>\n",
       "    </tr>\n",
       "  </thead>\n",
       "  <tbody>\n",
       "    <tr>\n",
       "      <th>count</th>\n",
       "      <td>2601.000000</td>\n",
       "      <td>2601.000000</td>\n",
       "      <td>2601.000000</td>\n",
       "      <td>2601.000000</td>\n",
       "      <td>2601.000000</td>\n",
       "    </tr>\n",
       "    <tr>\n",
       "      <th>mean</th>\n",
       "      <td>105.645878</td>\n",
       "      <td>41.958093</td>\n",
       "      <td>101.405998</td>\n",
       "      <td>36.339485</td>\n",
       "      <td>102.441369</td>\n",
       "    </tr>\n",
       "    <tr>\n",
       "      <th>std</th>\n",
       "      <td>2052.132164</td>\n",
       "      <td>28.358545</td>\n",
       "      <td>40.073410</td>\n",
       "      <td>31.661887</td>\n",
       "      <td>40.377513</td>\n",
       "    </tr>\n",
       "    <tr>\n",
       "      <th>min</th>\n",
       "      <td>-14215.824389</td>\n",
       "      <td>0.000000</td>\n",
       "      <td>60.000000</td>\n",
       "      <td>0.000000</td>\n",
       "      <td>60.000000</td>\n",
       "    </tr>\n",
       "    <tr>\n",
       "      <th>25%</th>\n",
       "      <td>-657.163986</td>\n",
       "      <td>0.000000</td>\n",
       "      <td>68.000000</td>\n",
       "      <td>0.000000</td>\n",
       "      <td>67.000000</td>\n",
       "    </tr>\n",
       "    <tr>\n",
       "      <th>50%</th>\n",
       "      <td>65.463112</td>\n",
       "      <td>53.000000</td>\n",
       "      <td>74.000000</td>\n",
       "      <td>56.000000</td>\n",
       "      <td>75.000000</td>\n",
       "    </tr>\n",
       "    <tr>\n",
       "      <th>75%</th>\n",
       "      <td>846.899182</td>\n",
       "      <td>64.000000</td>\n",
       "      <td>150.000000</td>\n",
       "      <td>65.000000</td>\n",
       "      <td>150.000000</td>\n",
       "    </tr>\n",
       "    <tr>\n",
       "      <th>max</th>\n",
       "      <td>26588.563506</td>\n",
       "      <td>70.000000</td>\n",
       "      <td>150.000000</td>\n",
       "      <td>70.000000</td>\n",
       "      <td>150.000000</td>\n",
       "    </tr>\n",
       "  </tbody>\n",
       "</table>\n",
       "</div>"
      ],
      "text/plain": [
       "            Savings      pre hbp      pre cbp     post hbp     post cbp\n",
       "count   2601.000000  2601.000000  2601.000000  2601.000000  2601.000000\n",
       "mean     105.645878    41.958093   101.405998    36.339485   102.441369\n",
       "std     2052.132164    28.358545    40.073410    31.661887    40.377513\n",
       "min   -14215.824389     0.000000    60.000000     0.000000    60.000000\n",
       "25%     -657.163986     0.000000    68.000000     0.000000    67.000000\n",
       "50%       65.463112    53.000000    74.000000    56.000000    75.000000\n",
       "75%      846.899182    64.000000   150.000000    65.000000   150.000000\n",
       "max    26588.563506    70.000000   150.000000    70.000000   150.000000"
      ]
     },
     "execution_count": 5,
     "metadata": {},
     "output_type": "execute_result"
    }
   ],
   "source": [
    "fine_results_wide.describe()"
   ]
  },
  {
   "cell_type": "code",
   "execution_count": 8,
   "metadata": {
    "collapsed": false
   },
   "outputs": [
    {
     "data": {
      "text/plain": [
       "array([[<matplotlib.axes._subplots.AxesSubplot object at 0x10e840da0>,\n",
       "        <matplotlib.axes._subplots.AxesSubplot object at 0x10eac9588>],\n",
       "       [<matplotlib.axes._subplots.AxesSubplot object at 0x10ed2f6d8>,\n",
       "        <matplotlib.axes._subplots.AxesSubplot object at 0x10eeb9278>]], dtype=object)"
      ]
     },
     "execution_count": 8,
     "metadata": {},
     "output_type": "execute_result"
    },
    {
     "data": {
      "image/png": "[encoded data removed]",
      "text/plain": [
       "<matplotlib.figure.Figure at 0x10d5c0eb8>"
      ]
     },
     "metadata": {},
     "output_type": "display_data"
    },
    {
     "data": {
      "image/png": "[encoded data removed]",
      "text/plain": [
       "<matplotlib.figure.Figure at 0x10dc386a0>"
      ]
     },
     "metadata": {},
     "output_type": "display_data"
    },
    {
     "data": {
      "image/png": "[encoded data removed]",
      "text/plain": [
       "<matplotlib.figure.Figure at 0x1055c3240>"
      ]
     },
     "metadata": {},
     "output_type": "display_data"
    }
   ],
   "source": [
    "def remove_dummy_balance_points(df):\n",
    "    '''Change the dummy heating and cooling balance points to np.nan\n",
    "    '''\n",
    "    return df.replace(str(HEATING_DUMMY_BALANCE_POINT), np.nan).replace(str(COOLING_DUMMY_BALANCE_POINT), np.nan)\n",
    "\n",
    "fine_results_wide_valid = remove_dummy_balance_points(fine_results_wide)\n",
    "fine_results_valid = remove_dummy_balance_points(fine_results)\n",
    "coarse_results_valid = remove_dummy_balance_points(coarse_results)\n",
    "coarse_results_valid.hist(['pre hbp', 'pre cbp', 'post hbp', 'post cbp'], bins=3, figsize=(10, 10))\n",
    "fine_results_valid.hist(['pre hbp', 'pre cbp', 'post hbp', 'post cbp'], bins=11, figsize=(10, 10))\n",
    "fine_results_wide_valid.hist(['pre hbp', 'pre cbp', 'post hbp', 'post cbp'], bins=21, figsize=(10, 10))"
   ]
  },
  {
   "cell_type": "code",
   "execution_count": 10,
   "metadata": {
    "collapsed": false
   },
   "outputs": [
    {
     "data": {
      "text/plain": [
       "<matplotlib.legend.Legend at 0x1118190b8>"
      ]
     },
     "execution_count": 10,
     "metadata": {},
     "output_type": "execute_result"
    },
    {
     "data": {
      "image/png": "[encoded data removed]",
      "text/plain": [
       "<matplotlib.figure.Figure at 0x11164e278>"
      ]
     },
     "metadata": {},
     "output_type": "display_data"
    }
   ],
   "source": [
    "def get_mode_of_column(df, col_name):\n",
    "    '''Get the mode of a column excluding the extreme values on the ends of the distribution.\n",
    "    If there are multiple values with the same count, the first is returned.\n",
    "    \n",
    "    @param df: a pandas dataframe\n",
    "    @param col_name: str, the name of the column to get the mode for\n",
    "    @return: list with two arrays of single values; first the value of the mode, second the count of that value\n",
    "    '''\n",
    "    min_extreme = df[col_name].min()\n",
    "    max_extreme = df[col_name].max()\n",
    "    mode = stats.mode(df.ix[(df[col_name] != min_extreme) & (df[col_name] != max_extreme), col_name])\n",
    "    return mode\n",
    "\n",
    "\n",
    "def get_mode_for_all_balancepoints(df):\n",
    "    '''Get the mode for all the balance point columns in a dataframe\n",
    "    \n",
    "    @param df: a pandas dataframe with columns for pre and post cbp/hbp\n",
    "    @return: an array of the modes for [pre cbp, post cbp, pre hbp, post hbp]\n",
    "    '''\n",
    "    pre_cbp = get_mode_of_column(df, 'pre cbp')\n",
    "    post_cbp = get_mode_of_column(df, 'post cbp')\n",
    "    pre_hbp = get_mode_of_column(df, 'pre hbp')\n",
    "    post_hbp = get_mode_of_column(df, 'post hbp')\n",
    "    \n",
    "    return np.concatenate([pre_cbp[0], post_cbp[0], pre_hbp[0], post_hbp[0]])\n",
    "\n",
    "\n",
    "def get_median_of_column(df, col_name):\n",
    "    '''Get the median of a column excluding the extreme values at the ends of the distribution.\n",
    "    '''\n",
    "    min_extreme = df[col_name].min()\n",
    "    max_extreme = df[col_name].max()\n",
    "    median = np.nanmedian(df.ix[(df[col_name] != min_extreme) & (df[col_name] != max_extreme), col_name])\n",
    "    return median\n",
    "\n",
    "\n",
    "def get_median_for_all_balancepoints(df):\n",
    "    '''Get the median for all the balance point columns in a dataframe\n",
    "    \n",
    "    @param df: a pandas dataframe with columns for pre and post cbp/hbp\n",
    "    @return: an array of the medians for [pre cbp, post cbp, pre hbp, post hbp]\n",
    "    '''\n",
    "    pre_cbp = get_median_of_column(df, 'pre cbp')\n",
    "    post_cbp = get_median_of_column(df, 'post cbp')\n",
    "    pre_hbp = get_median_of_column(df, 'pre hbp')\n",
    "    post_hbp = get_median_of_column(df, 'post hbp')\n",
    "    return [pre_cbp, post_cbp, pre_hbp, post_hbp]\n",
    "    \n",
    "\n",
    "coarse_modes = get_mode_for_all_balancepoints(coarse_results_valid)\n",
    "fine_modes = get_mode_for_all_balancepoints(fine_results_valid)\n",
    "fine_wide_modes = get_mode_for_all_balancepoints(fine_results_wide_valid)\n",
    "coarse_medians = get_median_for_all_balancepoints(coarse_results_valid)\n",
    "fine_medians = get_median_for_all_balancepoints(fine_results_valid)\n",
    "fine_wide_medians = get_median_for_all_balancepoints(fine_results_wide_valid)\n",
    "\n",
    "plt.figure(figsize=(13, 5))\n",
    "palette = sns.color_palette(palette='RdYlBu', n_colors=6, desat=0.8)\n",
    "bar_width = 1 / 7.\n",
    "right = [coarse_modes, coarse_medians, fine_modes, fine_medians, fine_wide_modes, fine_wide_medians]\n",
    "labels = ['coarse_modes', 'coarse_medians', 'fine_modes', 'fine_medians', 'fine_wide_modes', 'fine_wide_medians']\n",
    "for x in range(0, 6):\n",
    "    left = [0 + x * bar_width, 1 + x * bar_width, 2 + x * bar_width, 3 + x * bar_width]\n",
    "    plt.bar(left, right[x], width=bar_width, color=palette[x], label=labels[x])\n",
    "plt.axis([0, 4, 55, 72])\n",
    "plt.xticks([0.1, 1.1, 2.1, 3.1], ['pre cbp', 'post cbp', 'pre hbp', 'post hbp'])\n",
    "plt.legend(loc=1, bbox_to_anchor=(1.2, 0.85))"
   ]
  },
  {
   "cell_type": "code",
   "execution_count": 15,
   "metadata": {
    "collapsed": false
   },
   "outputs": [
    {
     "name": "stdout",
     "output_type": "stream",
     "text": [
      "MODES: (pre cbp, post cbp, pre hbp, post hbp)\n",
      "coarse results: [ 70.  70.  60.  60.] \n",
      "fine results: [ 68.  66.  61.  64.] \n",
      "fine wide results: [ 68.  66.  61.  63.]\n",
      "\n",
      "MEDIANS:\n",
      "coarse results: [70.0, 70.0, 60.0, 60.0] \n",
      "fine results: [69.0, 70.0, 61.0, 61.0] \n",
      "fine wide results: [69.0, 68.0, 61.0, 63.0]\n"
     ]
    }
   ],
   "source": [
    "print('MODES: (pre cbp, post cbp, pre hbp, post hbp)')\n",
    "print('coarse results:', coarse_modes, '\\nfine results:', fine_modes, '\\nfine wide results:', fine_wide_modes)\n",
    "print('\\nMEDIANS:')\n",
    "print('coarse results:', coarse_medians,'\\nfine results:', fine_medians, '\\nfine wide results:', fine_wide_medians)"
   ]
  },
  {
   "cell_type": "markdown",
   "metadata": {},
   "source": [
    "### Overall impressions and discussion topics:\n",
    "-  We should re-visit the chosen ranges for balance point selection (65-75 and 55-65).\n",
    "-  Decide with the group what default balance points to snap to if the extreme values are selected.\n",
    "-  Post treatment cooling balance point distribution is shifted to lower temperatures compared to pretreatment (this is opposite of what we expect)\n",
    "-  Post treatment heating balance point distribution may be shifted to higher temperatures than pretreatment (again opposite of expected)\n",
    "-  In some situations snapping to the median from the extreme values might be the wrong approach (post cbp)(?)"
   ]
  },
  {
   "cell_type": "code",
   "execution_count": null,
   "metadata": {
    "collapsed": true
   },
   "outputs": [],
   "source": []
  }
 ],
 "metadata": {
  "kernelspec": {
   "display_name": "Python 3",
   "language": "python",
   "name": "python3"
  },
  "language_info": {
   "codemirror_mode": {
    "name": "ipython",
    "version": 3
   },
   "file_extension": ".py",
   "mimetype": "text/x-python",
   "name": "python",
   "nbconvert_exporter": "python",
   "pygments_lexer": "ipython3",
   "version": "3.4.3"
  }
 },
 "nbformat": 4,
 "nbformat_minor": 1
}
